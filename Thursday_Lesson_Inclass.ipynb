{
 "cells": [
  {
   "cell_type": "markdown",
   "metadata": {},
   "source": [
    "# Object-Oriented-Programming (OOP)"
   ]
  },
  {
   "cell_type": "markdown",
   "metadata": {},
   "source": [
    "## Tasks Today:\n",
    "\n",
    "   \n",
    "\n",
    "1) <b>Creating a Class (Initializing/Declaring)</b> <br>\n",
    "2) <b>Using a Class (Instantiating)</b> <br>\n",
    " &nbsp;&nbsp;&nbsp;&nbsp; a) Creating One Instance <br>\n",
    " &nbsp;&nbsp;&nbsp;&nbsp; b) Creating Multiple Instances <br>\n",
    " &nbsp;&nbsp;&nbsp;&nbsp; c) In-Class Exercise #1 - Create a Class 'Car' and instantiate three different makes of cars <br>\n",
    "3) <b>The \\__init\\__() Method</b> <br>\n",
    " &nbsp;&nbsp;&nbsp;&nbsp; a) The 'self' Attribute <br>\n",
    "4) <b>Class Attributes</b> <br>\n",
    " &nbsp;&nbsp;&nbsp;&nbsp; a) Initializing Attributes <br>\n",
    " &nbsp;&nbsp;&nbsp;&nbsp; b) Setting an Attribute Outside of the \\__init\\__() Method <br>\n",
    " &nbsp;&nbsp;&nbsp;&nbsp; c) Setting Defaults for Attributes <br>\n",
    " &nbsp;&nbsp;&nbsp;&nbsp; d) Accessing Class Attributes <br>\n",
    " &nbsp;&nbsp;&nbsp;&nbsp; e) Changing Class Attributes <br>\n",
    " &nbsp;&nbsp;&nbsp;&nbsp; f) In-Class Exercise #2 - Add a color and wheels attribute to your 'Car' class <br>\n",
    "5) <b>Class Methods</b> <br>\n",
    " &nbsp;&nbsp;&nbsp;&nbsp; a) Creating <br>\n",
    " &nbsp;&nbsp;&nbsp;&nbsp; b) Calling <br>\n",
    " &nbsp;&nbsp;&nbsp;&nbsp; c) Modifying an Attribute's Value Through a Method <br>\n",
    " &nbsp;&nbsp;&nbsp;&nbsp; d) Incrementing an Attribute's Value Through a Method <br>\n",
    " &nbsp;&nbsp;&nbsp;&nbsp; e) In-Class Exercise #3 - Add a method that prints the cars color and wheel number, then call them <br>\n",
    "6) <b>Inheritance</b> <br>\n",
    " &nbsp;&nbsp;&nbsp;&nbsp; a) Syntax for Inheriting from a Parent Class <br>\n",
    " &nbsp;&nbsp;&nbsp;&nbsp; b) The \\__init\\__() Method for a Child Class (super()) <br>\n",
    " &nbsp;&nbsp;&nbsp;&nbsp; c) Defining Attributes and Methods for the Child Class <br>\n",
    " &nbsp;&nbsp;&nbsp;&nbsp; d) Method Overriding <br>\n",
    " &nbsp;&nbsp;&nbsp;&nbsp; e) In-Class Exercise #4 - Create a class 'Ford' that inherits from 'Car' class and initialize it as a Blue Ford Explorer with 4 wheels using the super() method <br>\n",
    "7) <b>Classes as Attributes</b> <br>\n",
    "8) <b>Exercises</b> <br>\n",
    " &nbsp;&nbsp;&nbsp;&nbsp; a) Exercise #1 - Turn the shopping cart program from yesterday into an object-oriented program <br>"
   ]
  },
  {
   "cell_type": "markdown",
   "metadata": {},
   "source": [
    "## Creating a Class (Initializing/Declaring)\n",
    "<p>When creating a class, function, or even a variable you are initializing that object. Initializing and Declaring occur at the same time in Python, whereas in lower level languages you have to declare an object before initializing it. This is the first step in the process of using a class.</p>"
   ]
  },
  {
   "cell_type": "code",
   "execution_count": 4,
   "metadata": {},
   "outputs": [],
   "source": [
    "class Car():\n",
    "    wheels = 4\n",
    "    color = 'blue'"
   ]
  },
  {
   "cell_type": "markdown",
   "metadata": {},
   "source": [
    "## Using a Class (Instantiating)\n",
    "<p>The process of creating a class is called <i>Instantiating</i>. Each time you create a variable of that type of class, it is referred to as an <i>Instance</i> of that class. This is the second step in the process of using a class.</p>"
   ]
  },
  {
   "cell_type": "markdown",
   "metadata": {},
   "source": [
    "##### Creating One Instance"
   ]
  },
  {
   "cell_type": "code",
   "execution_count": null,
   "metadata": {},
   "outputs": [],
   "source": [
    "ford = Car()"
   ]
  },
  {
   "cell_type": "markdown",
   "metadata": {},
   "source": [
    "##### Creating Multiple Instances"
   ]
  },
  {
   "cell_type": "code",
   "execution_count": 4,
   "metadata": {},
   "outputs": [
    {
     "name": "stdout",
     "output_type": "stream",
     "text": [
      "5\n",
      "4\n",
      "3\n"
     ]
    }
   ],
   "source": [
    "class car():\n",
    "    wheels = 4\n",
    "    color = 'blue'\n",
    "    \n",
    "mazda = car()\n",
    "honda = car()\n",
    "alexcar = car()\n",
    "\n",
    "mazda.wheels = 5\n",
    "alexcar.wheels = 3\n",
    "\n",
    "print(mazda.wheels)\n",
    "print(honda.wheels)\n",
    "print(alexcar.wheels)"
   ]
  },
  {
   "cell_type": "markdown",
   "metadata": {},
   "source": [
    "##### In-Class Exercise #1 - Create a Class 'Car' and Instantiate three different makes of cars"
   ]
  },
  {
   "cell_type": "code",
   "execution_count": null,
   "metadata": {},
   "outputs": [],
   "source": []
  },
  {
   "cell_type": "markdown",
   "metadata": {},
   "source": [
    "## The \\__init\\__() Method <br>\n",
    "<p>This method is used in almost every created class, and called only once upon the creation of the class instance. This method will initialize all variables needed for the object.</p>"
   ]
  },
  {
   "cell_type": "code",
   "execution_count": 15,
   "metadata": {},
   "outputs": [
    {
     "data": {
      "text/plain": [
       "'Kathryn Lavoie'"
      ]
     },
     "execution_count": 15,
     "metadata": {},
     "output_type": "execute_result"
    }
   ],
   "source": [
    "class Human():\n",
    "    def __init__(self,name, age):\n",
    "        self.name = n\n",
    "        self.age = age\n",
    "        self.arms = 2\n",
    "        self.legs = 2\n",
    "        \n",
    "alex = Human('Alex Evanega')\n",
    "kathryn = Human('Kathryn Lavoie')\n",
    "alex.name\n",
    "kathryn.name"
   ]
  },
  {
   "cell_type": "markdown",
   "metadata": {},
   "source": [
    "##### The 'self' Attribute <br>\n",
    "<p>This attribute is required to keep track of specific instance's attributes. Without the self attribute, the program would not know how to reference or keep track of an instance's attributes.</p>"
   ]
  },
  {
   "cell_type": "code",
   "execution_count": null,
   "metadata": {},
   "outputs": [],
   "source": [
    "# see above"
   ]
  },
  {
   "cell_type": "markdown",
   "metadata": {},
   "source": [
    "## Class Attributes <br>\n",
    "<p>While variables are inside of a class, they are referred to as attributes and not variables. When someone says 'attribute' you know they're speaking about a class. Attributes can be initialized through the init method, or outside of it.</p>"
   ]
  },
  {
   "cell_type": "markdown",
   "metadata": {},
   "source": [
    "##### Initializing Attributes"
   ]
  },
  {
   "cell_type": "code",
   "execution_count": null,
   "metadata": {},
   "outputs": [],
   "source": [
    "# see above"
   ]
  },
  {
   "cell_type": "markdown",
   "metadata": {},
   "source": [
    "##### Accessing Class Attributes"
   ]
  },
  {
   "cell_type": "code",
   "execution_count": null,
   "metadata": {
    "scrolled": true
   },
   "outputs": [],
   "source": [
    "# See Above"
   ]
  },
  {
   "cell_type": "markdown",
   "metadata": {},
   "source": [
    "##### Setting Defaults for Attributes"
   ]
  },
  {
   "cell_type": "code",
   "execution_count": null,
   "metadata": {},
   "outputs": [],
   "source": []
  },
  {
   "cell_type": "markdown",
   "metadata": {},
   "source": [
    "##### Changing Class Attributes <br>\n",
    "<p>Keep in mind there are global class attributes and then there are attributes only available to each class instance which won't effect other classes.</p>"
   ]
  },
  {
   "cell_type": "code",
   "execution_count": null,
   "metadata": {},
   "outputs": [],
   "source": []
  },
  {
   "cell_type": "code",
   "execution_count": null,
   "metadata": {},
   "outputs": [],
   "source": []
  },
  {
   "cell_type": "markdown",
   "metadata": {},
   "source": [
    "##### In-Class Exercise #2 - Add a doors and seats attribute to your 'Car' class then print out two different instances with different doors and seats"
   ]
  },
  {
   "cell_type": "code",
   "execution_count": 32,
   "metadata": {},
   "outputs": [
    {
     "data": {
      "text/plain": [
       "4"
      ]
     },
     "execution_count": 32,
     "metadata": {},
     "output_type": "execute_result"
    }
   ],
   "source": [
    "class car():\n",
    "    def __init__(self, d, s):\n",
    "        self.color = \"green\"\n",
    "        self.wheels = 4\n",
    "        self.doors = d\n",
    "        self.seats = s\n",
    "        \n",
    "jeep = car(d=4, s=5)\n",
    "van = car(d=5, s=7)\n",
    "jeep.doors\n"
   ]
  },
  {
   "cell_type": "markdown",
   "metadata": {},
   "source": [
    "## Class Methods <br>\n",
    "<p>While inside of a class, functions are referred to as 'methods'. If you hear someone mention methods, they're speaking about classes. Methods are essentially functions, but only callable on the instances of a class.</p>"
   ]
  },
  {
   "cell_type": "markdown",
   "metadata": {},
   "source": [
    "##### Creating"
   ]
  },
  {
   "cell_type": "code",
   "execution_count": 56,
   "metadata": {},
   "outputs": [],
   "source": [
    "class car():\n",
    "    def __init__(self, d, s, make, model, year, oil_change='June'):\n",
    "        self.color = \"green\"\n",
    "        self.wheels = 4\n",
    "        self.doors = d\n",
    "        self.seats = s\n",
    "        self.year = year\n",
    "        self.make= make\n",
    "        self.model= model\n",
    "        self.oil_change = oil_change\n",
    "        self.age = 0\n",
    "        \n",
    "        \n",
    "    def getdetails(self):\n",
    "        print(f'This car is a {self.year}')\n",
    "        \n",
    "    def updateoilchange(self,date):\n",
    "        self.oil_change = date\n",
    "        \n",
    "    def happybirthday(self):\n",
    "        self.age += 1\n",
    "\n",
    "car1 = car(4,5,'Jeep','Cherokee',1999)\n"
   ]
  },
  {
   "cell_type": "markdown",
   "metadata": {},
   "source": [
    "##### Calling"
   ]
  },
  {
   "cell_type": "code",
   "execution_count": null,
   "metadata": {},
   "outputs": [],
   "source": [
    "# See Above"
   ]
  },
  {
   "cell_type": "markdown",
   "metadata": {},
   "source": [
    "##### Modifying an Attribute's Value Through a Method"
   ]
  },
  {
   "cell_type": "code",
   "execution_count": 60,
   "metadata": {},
   "outputs": [
    {
     "name": "stdout",
     "output_type": "stream",
     "text": [
      "This car is a 1999\n",
      "November\n",
      "November\n",
      "0\n",
      "1\n"
     ]
    }
   ],
   "source": [
    "car1.getdetails()\n",
    "\n",
    "print(car1.oil_change)\n",
    "car1.updateoilchange('November')\n",
    "print(car1.oil_change)\n",
    "print(car1.age)\n",
    "car1.happybirthday()\n",
    "print(car1.age)"
   ]
  },
  {
   "cell_type": "markdown",
   "metadata": {},
   "source": [
    "##### Incrementing an Attribute's Value Through a Method"
   ]
  },
  {
   "cell_type": "code",
   "execution_count": null,
   "metadata": {},
   "outputs": [],
   "source": []
  },
  {
   "cell_type": "markdown",
   "metadata": {},
   "source": [
    "##### In-Class Exercise #3 - Add a method that takes in three parameters of year, doors and seats and prints out a formatted print statement with make, model, year, seats, and doors"
   ]
  },
  {
   "cell_type": "code",
   "execution_count": 87,
   "metadata": {},
   "outputs": [
    {
     "name": "stdout",
     "output_type": "stream",
     "text": [
      "This car is from 2019 and is a Ford Explorer and has 4 doors and 5 seats\n"
     ]
    }
   ],
   "source": [
    "# Create class with 2 paramters inside of the __init__ which are make and model\n",
    "\n",
    "# Inside of the Car class create a method that has 4 parameter in total (self,year,door,seats)\n",
    "\n",
    "# Output: This car is from 2019 and is a Ford Expolorer and has 4 doors and 5 seats\n",
    "\n",
    "class car():\n",
    "    def __init__(self, make, model):\n",
    "        self.make = make\n",
    "        self.model = model\n",
    "\n",
    "        \n",
    "    def build_car(self, year, door, seats):\n",
    "        self.door = door\n",
    "        self.year = year\n",
    "        self.seats = seats\n",
    "        print(f'This car is from {self.year} and is a {self.make} {self.model} and has {self.door} doors and {self.seats} seats')\n",
    "        \n",
    "        \n",
    "car1 = car('Ford', 'Explorer')\n",
    "\n",
    "car1.build_car(2019, 4, 5)\n",
    "    \n",
    "\n"
   ]
  },
  {
   "cell_type": "markdown",
   "metadata": {},
   "source": [
    "## Inheritance <br>\n",
    "<p>You can create a child-parent relationship between two classes by using inheritance. What this allows you to do is have overriding methods, but also inherit traits from the parent class. Think of it as an actual parent and child, the child will inherit the parent's genes, as will the classes in OOP</p>"
   ]
  },
  {
   "cell_type": "markdown",
   "metadata": {},
   "source": [
    "##### Syntax for Inheriting from a Parent Class"
   ]
  },
  {
   "cell_type": "code",
   "execution_count": 71,
   "metadata": {},
   "outputs": [
    {
     "name": "stdout",
     "output_type": "stream",
     "text": [
      "...\n",
      "...\n"
     ]
    }
   ],
   "source": [
    "class Animal():\n",
    "    def __init__ (self, legs=4, isUseful=False):\n",
    "        self.legs = legs\n",
    "        self.isUseful = isUseful\n",
    "        self.sound = \"...\"\n",
    "        \n",
    "    def makeSound(self):\n",
    "        print(\"...\")\n",
    "\n",
    "class Dog(Animal):\n",
    "    def __init__(self, legs=4, isUseful=False):\n",
    "        super().__init__()\n",
    "        self.dog = True\n",
    "        \n",
    "\n",
    "class Cat():\n",
    "    def __init__(self):\n",
    "        Cat = True\n",
    "        \n",
    "class Lion():\n",
    "    def __init__(self):\n",
    "        Lion = True\n",
    "        \n",
    "        \n",
    "a = Animal()\n",
    "a.makeSound()\n",
    "\n",
    "d = Dog()\n",
    "d.legs\n",
    "d.makeSound()"
   ]
  },
  {
   "cell_type": "markdown",
   "metadata": {},
   "source": [
    "##### The \\__init\\__() Method for a Child Class - super()"
   ]
  },
  {
   "cell_type": "code",
   "execution_count": null,
   "metadata": {
    "scrolled": true
   },
   "outputs": [],
   "source": []
  },
  {
   "cell_type": "markdown",
   "metadata": {},
   "source": [
    "##### Defining Attributes and Methods for the Child Class"
   ]
  },
  {
   "cell_type": "code",
   "execution_count": null,
   "metadata": {},
   "outputs": [],
   "source": [
    "# See Above"
   ]
  },
  {
   "cell_type": "markdown",
   "metadata": {},
   "source": [
    "##### Method Overriding"
   ]
  },
  {
   "cell_type": "code",
   "execution_count": null,
   "metadata": {},
   "outputs": [],
   "source": [
    "# See Above"
   ]
  },
  {
   "cell_type": "markdown",
   "metadata": {},
   "source": [
    "## Classes as Attributes <br>\n",
    "<p>Classes can also be used as attributes within another class. This is useful in situations where you need to keep variables locally stored, instead of globally stored.</p>"
   ]
  },
  {
   "cell_type": "code",
   "execution_count": 86,
   "metadata": {},
   "outputs": [
    {
     "name": "stdout",
     "output_type": "stream",
     "text": [
      "7.8\n",
      "2021 Tesla CyberTruck 20\n"
     ]
    }
   ],
   "source": [
    "class Battery():\n",
    "    def __init__(self, cells):\n",
    "        self.volts = 7.8\n",
    "        self.cells = cells\n",
    "        \n",
    "class car():\n",
    "    def __init__(self, year, make, model, battery):\n",
    "        self.year = year\n",
    "        self.make = make\n",
    "        self.model = model\n",
    "        self.battery = battery\n",
    "    \n",
    "    def PrintInfo(self):\n",
    "        print(f'{self.year} {self.make} {self.model} {self.battery.cells}')\n",
    "        \n",
    "battery = Battery(20)\n",
    "\n",
    "tesla = car(2021, \"Tesla\", \"CyberTruck\", battery)\n",
    "\n",
    "print(tesla.battery.volts)\n",
    "\n",
    "tesla.PrintInfo()"
   ]
  },
  {
   "cell_type": "markdown",
   "metadata": {},
   "source": [
    "# Exercises"
   ]
  },
  {
   "cell_type": "markdown",
   "metadata": {},
   "source": [
    "### Exercise 1 - Turn the shopping cart program from yesterday into an object-oriented program\n",
    "\n",
    "The comments in the cell below are there as a guide for thinking about the problem. However, if you feel a different way is best for you and your own thought process, please do what feels best for you by all means."
   ]
  },
  {
   "cell_type": "code",
   "execution_count": 99,
   "metadata": {},
   "outputs": [
    {
     "name": "stdout",
     "output_type": "stream",
     "text": [
      "Goodbye Quit. Thank you for using Shoppers Plus!!\n"
     ]
    }
   ],
   "source": [
    "from typing import Type\n",
    "from IPython.display import clear_output\n",
    "from traitlets.traitlets import Instance\n",
    "\n",
    "# Ask the user four bits of input: Do you want to : Show/Add/Delete or Quit?\n",
    "    \n",
    "class Cart():\n",
    "    def __init__(self):\n",
    "        self.shopper = ''\n",
    "        self.cart = {}\n",
    "    \n",
    "    def store_item(self,item,quantity):\n",
    "            if item not in self.cart:\n",
    "                self.cart[item] = quantity\n",
    "            else:\n",
    "                self.cart[item] += quantity\n",
    "\n",
    "    def print_cart_items(self):\n",
    "        for item in self.cart:\n",
    "            print(f'{item}:{self.cart[item]}')\n",
    "\n",
    "               \n",
    "    def get_quantity(self):\n",
    "        quantity = input('How many would you like to add?: ').lower()\n",
    "        clear_output()\n",
    "        if quantity.isdigit():\n",
    "            quantity = int(quantity)\n",
    "            return quantity\n",
    "\n",
    "        elif quantity == 'quit':\n",
    "            return quantity\n",
    "\n",
    "        else:\n",
    "            print(f'Sorry {self.shopper}, that is not a valid response. Please enter a valid number.')\n",
    "            quantity = self.get_quantity()\n",
    "\n",
    "        return quantity\n",
    "\n",
    "    def add(self):\n",
    "        item = input('What would you like to add to your cart?: ').lower()\n",
    "        clear_output()  \n",
    "        if item.isdigit():\n",
    "            print(f'Sorry {self.shopper}, that is not a valid response. Please enter a valid item.')\n",
    "            self.add()\n",
    "        \n",
    "        elif item == 'quit':\n",
    "            return item\n",
    "        \n",
    "        else:\n",
    "            item = Cart_Item(item.title())\n",
    "            quantity = self.get_quantity()\n",
    "            item.quantity += quantity\n",
    "            self.store_item(item.purchase,item.quantity)\n",
    "            return quantity\n",
    "\n",
    "\n",
    "\n",
    "    def delete(self):\n",
    "        if len(self.cart) == 0:\n",
    "            ans = input(\"Your cart is empty. Press enter to continue.\")\n",
    "            clear_output()\n",
    "            return ans\n",
    "\n",
    "        else:\n",
    "            self.print_cart_items()\n",
    "            delete = input(f'Here is what you have in your cart so far {self.shopper}.\\n'\n",
    "            'Which item would you like to delete? ').title()\n",
    "            clear_output()\n",
    "            if delete not in self.cart and delete != 'Quit':\n",
    "                print(f'Sorry you do not have any {delete} in your cart. Try again.')\n",
    "                self.delete()\n",
    "\n",
    "            elif delete.lower() == 'quit':\n",
    "                return delete\n",
    "\n",
    "        res = self.how_many(delete)\n",
    "        if res == 'quit':\n",
    "            return res \n",
    "\n",
    "        follow_up = self.follow_up()\n",
    "        if follow_up == 'y':\n",
    "            self.delete()\n",
    "        \n",
    "\n",
    "        return\n",
    "    \n",
    "    def how_many(self, item):\n",
    "        print(f'You have {self.cart[item]} {item} in your cart')\n",
    "        how_many = input(f'How many {item} would you like to remove from your cart? ').lower()\n",
    "        clear_output() \n",
    "        if how_many.isdigit() and int(how_many) == self.cart[item]:\n",
    "            del self.cart[item]\n",
    "           \n",
    "\n",
    "        elif how_many.isdigit() and int(how_many) < self.cart[item]:\n",
    "            self.cart[item] -= int(how_many)\n",
    "\n",
    "            \n",
    "        elif how_many == 'quit':\n",
    "            return how_many\n",
    "\n",
    "        else:\n",
    "            print(f\"Sorry {self.shopper}, that is not a valid response. Please enter a valid number.\")\n",
    "            self.how_many(item)\n",
    "\n",
    "\n",
    "    def show_cart(self):\n",
    "        if len(self.cart) == 0:\n",
    "            ans = input(\"Your cart is empty! Press enter to continue\")\n",
    "            clear_output()\n",
    "            if ans == '':\n",
    "                return ans\n",
    "\n",
    "        else:\n",
    "            print(f'Here is what you have in your cart so far: ')\n",
    "            self.print_cart_items()\n",
    "           \n",
    "\n",
    "            follow_up = self.follow_up()\n",
    "            if follow_up.lower() == 'y':\n",
    "                self.show_cart\n",
    "    \n",
    "        return \n",
    "        \n",
    "\n",
    "    def init_cart(self,shopper):\n",
    "        shop = input(f\"Let's get you started {shopper}!\\n\"\n",
    "        'Please enter one of the following options:\\n'\n",
    "        '\\tAdd - To add to your shopping cart\\n\\tDelete - To delete an item from your shopping cart'\n",
    "        '\\n\\tShow - To view what is currently in your cart\\n\\tCheckout - To Checkout your items and leave the program\\n'\n",
    "        'What would you like to do?: ').lower()\n",
    "        clear_output()\n",
    "\n",
    "        if shop == 'add':\n",
    "            add = self.add()\n",
    "            if add == 'quit':\n",
    "                kill_code = 'quit'\n",
    "                return kill_code\n",
    "            else:\n",
    "                self.init_cart(self.shopper)\n",
    "\n",
    "        elif shop == 'delete':\n",
    "            delete = self.delete()\n",
    "            if delete == 'quit':\n",
    "                kill_code = 'quit'\n",
    "                return kill_code\n",
    "            else:\n",
    "                self.init_cart(self.shopper)\n",
    "\n",
    "        elif shop == 'show':\n",
    "            self.show_cart()\n",
    "            self.init_cart(self.shopper)\n",
    "\n",
    "        elif shop == 'checkout':\n",
    "            double_check = self.double_check()\n",
    "            if double_check == \"n\":\n",
    "                self.init_cart(self.shopper)\n",
    "            else:\n",
    "                return shop\n",
    "\n",
    "        else:\n",
    "            print(f'Sorry {shopper}. That is not a valid response.')\n",
    "            self.init_cart(self.shopper)\n",
    "\n",
    "        if shop.lower() == 'checkout' or shop.lower() == 'quit':\n",
    "            return shop\n",
    "\n",
    "        \n",
    "    \n",
    "\n",
    "    def double_check(self):\n",
    "        double_check = input('Are you sure you want to quit?(y/n) ').lower()\n",
    "        clear_output()\n",
    "        if double_check != 'y' and double_check != 'n':\n",
    "            print(f'Sorry {self.shopper}that is not a valid response. Please enter \"Y\" or \"N\"')\n",
    "            self.follow_up()\n",
    "        else:\n",
    "            return double_check\n",
    "\n",
    "    \n",
    "\n",
    "    def follow_up(self):\n",
    "        follow_up = input('Would you like to stay in this menu? (Y/N): ').lower()\n",
    "        clear_output()\n",
    "        if follow_up != 'y' and follow_up != 'n':\n",
    "            print(f'Sorry {self.shopper}, that is not a valid response. Please enter \"Y\" or \"N\"')\n",
    "            self.follow_up()\n",
    "        else:\n",
    "            return follow_up\n",
    "\n",
    "\n",
    "class Cart_Item(Cart):\n",
    "        def __init__(self,item):\n",
    "            super().__init__()\n",
    "            self.purchase = item\n",
    "            self.quantity = 0\n",
    "\n",
    "\n",
    "def init_shopper():\n",
    "    while True:\n",
    "        intro = input(f'Welcome to Shoppers Plus! Who will be shopping with us today?'\n",
    "        '\\n(Enter \"quit\" at any point to exit the program): ').title()\n",
    "        clear_output()\n",
    "        if intro.lower() != 'quit' and intro.lower() != 'checkout':\n",
    "                Current_Shopper = Cart()\n",
    "                Current_Shopper.shopper += intro\n",
    "                start = Current_Shopper.init_cart(intro)\n",
    "                if start == 'quit' or start == 'checkout':\n",
    "                    print(f'Goodbye {intro}. Thank you for using Shoppers Plus!!')\n",
    "                    break\n",
    "\n",
    "        else:\n",
    "            print(f'Goodbye {intro}. Thank you for using Shoppers Plus!!')\n",
    "\n",
    "            break\n",
    "\n",
    "init_shopper()\n"
   ]
  },
  {
   "cell_type": "markdown",
   "metadata": {},
   "source": [
    "### Exercise 2 - Write a Python class which has two methods get_String and print_String. get_String accept a string from the user and print_String print the string in upper case"
   ]
  },
  {
   "cell_type": "code",
   "execution_count": 136,
   "metadata": {},
   "outputs": [
    {
     "name": "stdout",
     "output_type": "stream",
     "text": [
      "Give me a good quote...When the going gets weird....The weird turn pro\n",
      "WHEN THE GOING GETS WEIRD....THE WEIRD TURN PRO\n"
     ]
    }
   ],
   "source": [
    "class String():\n",
    "    def __init__(self):\n",
    "        name = 'string class'\n",
    "        \n",
    "    def get_String(self):\n",
    "        ask = input(f'Give me a good quote...')\n",
    "        return ask\n",
    "            \n",
    "    \n",
    "            \n",
    "    def print_String(self,):\n",
    "        shouting = self.get_String()\n",
    "        print(shouting.upper())\n",
    "        \n",
    "\n",
    "alex = String()\n",
    "alex.print_String()"
   ]
  }
 ],
 "metadata": {
  "kernelspec": {
   "display_name": "Python 3",
   "language": "python",
   "name": "python3"
  },
  "language_info": {
   "codemirror_mode": {
    "name": "ipython",
    "version": 3
   },
   "file_extension": ".py",
   "mimetype": "text/x-python",
   "name": "python",
   "nbconvert_exporter": "python",
   "pygments_lexer": "ipython3",
   "version": "3.8.8"
  }
 },
 "nbformat": 4,
 "nbformat_minor": 2
}
